{
  "nbformat": 4,
  "nbformat_minor": 0,
  "metadata": {
    "colab": {
      "name": "Copy of covid_test.ipynb",
      "provenance": [],
      "mount_file_id": "1VYOm8gfNhXm-NJE3Fs0pTxX9L7r3MVwz",
      "authorship_tag": "ABX9TyPFrvMd7JujVeMjTedPoRqh",
      "include_colab_link": true
    },
    "kernelspec": {
      "name": "python3",
      "display_name": "Python 3"
    },
    "language_info": {
      "name": "python"
    }
  },
  "cells": [
    {
      "cell_type": "markdown",
      "metadata": {
        "id": "view-in-github",
        "colab_type": "text"
      },
      "source": [
        "<a href=\"https://colab.research.google.com/github/Johanth-ps/mini-project/blob/main/covid_test.ipynb\" target=\"_parent\"><img src=\"https://colab.research.google.com/assets/colab-badge.svg\" alt=\"Open In Colab\"/></a>"
      ]
    },
    {
      "cell_type": "code",
      "metadata": {
        "id": "KyMzTQJR__-S",
        "colab": {
          "base_uri": "https://localhost:8080/"
        },
        "outputId": "4b7157d9-e923-4cb1-ee9b-98e258aeb841"
      },
      "source": [
        "'''This Program is to sort COVID positive and negative\n",
        "    people with their respective scans\n",
        "    using Machine Learning Model.\n",
        "                developed by Johanth.P.S'''\n",
        "\n",
        "import os\n",
        "import numpy as np\n",
        "import matplotlib.pyplot as plt\n",
        "from skimage.io import imread\n",
        "from skimage.transform import resize\n",
        "from sklearn.model_selection import train_test_split\n",
        "from sklearn.model_selection import GridSearchCV\n",
        "from sklearn.metrics import accuracy_score, confusion_matrix\n",
        "import pickle\n",
        "from sklearn import svm\n",
        "\n",
        "target = []  # output\n",
        "images = []  # data-images\n",
        "flat_data = []  # data to train out model (ie: flattened value-2D to 1D)\n",
        "\n",
        "DATADIR = '/content/drive/MyDrive/mini-project/covid'\n",
        "CATEGORIES = ['Covid_negative', 'Covid_positive', 'Viral_Pneumonia']\n",
        "\n",
        "for category in CATEGORIES:\n",
        "    class_num = CATEGORIES.index(category)  # Label encoding the values Negative-0 Positive-1 Pneumonia-2\n",
        "    path = os.path.join(DATADIR, category)  # Path to use images\n",
        "    for img in os.listdir(path):\n",
        "        img_array = imread(os.path.join(path, img))\n",
        "        img_resize = resize(img_array, (150, 150, 3))\n",
        "        flat_data.append(img_resize.flatten())\n",
        "        images.append(img_resize)\n",
        "        target.append(class_num)\n",
        "\n",
        "x = np.array(flat_data)\n",
        "y = np.array(target)\n",
        "images = np.array(images)\n",
        "print(\"Images read and flattened.. Now training starts..\")\n",
        "\n",
        "unique, count = (np.unique(y, return_counts=True))\n",
        "X_train, X_test, y_train, y_test = train_test_split(x, y, test_size=0.33, random_state=42)\n",
        "\n",
        "param_grid = [\n",
        "    {'C': [1, 10, 100, 1000], 'kernel':['linear']},\n",
        "    {'C': [1, 10, 100, 1000], 'gamma':[0.001, 0.0001], 'kernel':['rbf']}\n",
        "]\n",
        "\n",
        "svc = svm.SVC(probability=True)\n",
        "clf =GridSearchCV(svc, param_grid)\n",
        "clf.fit(X_train, y_train)\n",
        "\n",
        "y_pred = clf.predict(X_test)\n",
        "print(accuracy_score(y_pred, y_test))\n",
        "\n",
        "# Save the model using Pickel library\n",
        "with open('train.pickle', 'wb') as f:\n",
        "    pickle.dump([clf, CATEGORIES], f)\n",
        "\n",
        "\n",
        "\n"
      ],
      "execution_count": null,
      "outputs": [
        {
          "output_type": "stream",
          "text": [
            "Images read and flattened.. Now training starts..\n",
            "0.9565217391304348\n"
          ],
          "name": "stdout"
        }
      ]
    },
    {
      "cell_type": "code",
      "metadata": {
        "colab": {
          "base_uri": "https://localhost:8080/"
        },
        "id": "QDX0LLEoDbnE",
        "outputId": "ac366bf5-e934-4150-df21-7153c7308039"
      },
      "source": [
        "import pickle\n",
        "from skimage.io import imread\n",
        "import numpy as np\n",
        "from skimage.transform import resize\n",
        "\n",
        "with open('train.pickle', 'rb') as f:\n",
        "    clf, CATEGORIES = pickle.load(f)\n",
        "\n",
        "model = clf\n",
        "flat_data = []\n",
        "path = input(\"Enter the path of or url of image : \")\n",
        "img = imread(path)\n",
        "\n",
        "img_resize = resize(img, (150, 150, 3))\n",
        "flat_data.append(img_resize.flatten())\n",
        "flat_data = np.array(flat_data)\n",
        "y_out = model.predict(flat_data)\n",
        "y_out = CATEGORIES[y_out[0]]\n",
        "print(f'My prediction on your health is : {y_out}')"
      ],
      "execution_count": null,
      "outputs": [
        {
          "output_type": "stream",
          "text": [
            "Enter the path of or url of image : https://ietp-web-cdn-eandt-cache.azureedge.net/6/d/2/6/f/5/6d26f590d2b17f3a25f8e9814416588f7eca5e45.jpg\n",
            "My prediction on your health is : Covid_positive\n"
          ],
          "name": "stdout"
        }
      ]
    }
  ]
}